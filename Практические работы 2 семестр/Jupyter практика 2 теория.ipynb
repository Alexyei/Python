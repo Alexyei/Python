{
 "cells": [
  {
   "cell_type": "code",
   "execution_count": 1,
   "metadata": {},
   "outputs": [
    {
     "name": "stdout",
     "output_type": "stream",
     "text": [
      "str\n",
      "str\n",
      "\"str\"\n",
      "'str'\n"
     ]
    }
   ],
   "source": [
    "S = \"str\"\n",
    "print(S)\n",
    "S = 'str'\n",
    "print(S)\n",
    "S = '\"str\"'\n",
    "print(S)\n",
    "S = \"'str'\"\n",
    "print(S)"
   ]
  },
  {
   "cell_type": "code",
   "execution_count": 2,
   "metadata": {},
   "outputs": [
    {
     "name": "stdout",
     "output_type": "stream",
     "text": [
      "Привет!\n",
      "Ты\t\u000b",
      "изучаешь\n",
      "Python\n"
     ]
    }
   ],
   "source": [
    "S = \"Привет!\\nТы\\t\\vизучаешь\\nPython\"\n",
    "print(S) # используем функции экранирования\n",
    "# \\n - перевод на новую строку (запомним как new)\n",
    "# \\t - табуляция горизонтальная (так и запомним Tабуляция)\n",
    "# \\v - табуляция вертикальная (так и запоминаем Veртикальная)\n",
    "# \\r - вернет корретку"
   ]
  },
  {
   "cell_type": "code",
   "execution_count": 3,
   "metadata": {},
   "outputs": [
    {
     "name": "stdout",
     "output_type": "stream",
     "text": [
      "C:\temp\n",
      "ew\n",
      "C:\\temp\\new\n"
     ]
    }
   ],
   "source": [
    "S = \"C:\\temp\\new\"\n",
    "print(S)\n",
    "S = r\"C:\\temp\\new\"# подавляем функции экранирования с помощью символа r\n",
    "print(S)"
   ]
  },
  {
   "cell_type": "code",
   "execution_count": 4,
   "metadata": {},
   "outputs": [
    {
     "name": "stdout",
     "output_type": "stream",
     "text": [
      "Hello world\n"
     ]
    }
   ],
   "source": [
    "# Конкатенация (сложение строк)\n",
    "S1 = 'Hello' # строка 1\n",
    "S2 = ' '# строка 2\n",
    "S3 = 'world' # строка 3\n",
    "S4 = S1+S2+S3 # итоговая строка\n",
    "print (S4)# вывод строки на экран"
   ]
  },
  {
   "cell_type": "code",
   "execution_count": 5,
   "metadata": {},
   "outputs": [
    {
     "name": "stdout",
     "output_type": "stream",
     "text": [
      "Hello world\n"
     ]
    }
   ],
   "source": [
    "# Конкатенация (сложение строк)\n",
    "S1 = 'Hello' # строка 1\n",
    "S2 = ' '# строка 2\n",
    "S3 = 'world' # строка 3\n",
    "S4 = S1+S2+S3 # итоговая строка\n",
    "print (S4)# вывод строки на экран"
   ]
  },
  {
   "cell_type": "code",
   "execution_count": 6,
   "metadata": {},
   "outputs": [
    {
     "name": "stdout",
     "output_type": "stream",
     "text": [
      "Hello\n",
      "HelloHelloHello\n"
     ]
    }
   ],
   "source": [
    "#Повторение строки\n",
    "S1 = \"Hello\"\n",
    "#S1 = S1*3\n",
    "print (S1)\n",
    "S1*=3\n",
    "print (S1)"
   ]
  },
  {
   "cell_type": "code",
   "execution_count": 7,
   "metadata": {},
   "outputs": [
    {
     "name": "stdout",
     "output_type": "stream",
     "text": [
      "H\n",
      "e\n",
      "l\n",
      "l\n",
      "o\n"
     ]
    }
   ],
   "source": [
    "# Обращение по индексу в строке\n",
    "S1 = \"Hello\"\n",
    "print (S1[0]) # индексация начинается с 0 первый символ = H\n",
    "print (S1[1])# обращение ко 2 символу в строке = е\n",
    "print (S1[3])# обращение к 3 символу в строке = l\n",
    "print (S1[2])# обращение к 4 символу в строке = l\n",
    "print (S1[4])# обращение к 5 символу в строке = o"
   ]
  },
  {
   "cell_type": "code",
   "execution_count": 8,
   "metadata": {},
   "outputs": [
    {
     "name": "stdout",
     "output_type": "stream",
     "text": [
      "H\n",
      "e\n",
      "l\n",
      "l\n",
      "o\n"
     ]
    }
   ],
   "source": [
    "# Обращение по индексу в строке\n",
    "# язык python поддерживает отрицательные ингдексы при обращении к элементам строки\n",
    "# первый символ имеет индекс = длина строки * -1\n",
    "# в нашем случае это число 5*-1 = -5\n",
    "S1 = \"Hello\"\n",
    "print (S1[-5]) # индексация начинается с 0 первый символ = H\n",
    "print (S1[-4])# обращение ко 2 символу в строке = е\n",
    "print (S1[-3])# обращение к 3 символу в строке = l\n",
    "print (S1[-2])# обращение к 4 символу в строке = l\n",
    "print (S1[-1])# обращение к 5 символу в строке = o"
   ]
  },
  {
   "cell_type": "code",
   "execution_count": 9,
   "metadata": {},
   "outputs": [
    {
     "name": "stdout",
     "output_type": "stream",
     "text": [
      "Hello world  длина строки равна =  11\n",
      "У строки \"Вчера не читал лекции\" длина =  21\n"
     ]
    }
   ],
   "source": [
    "# измерим длину строки\n",
    "S1 = \"Hello world\"\n",
    "t = len(S1)\n",
    "print (S1,\" длина строки равна = \", t)\n",
    "t = len (\"Вчера не читал лекции\")\n",
    "print (\"У строки \" + '\"Вчера не читал лекции\" '+ \"длина = \", t)"
   ]
  },
  {
   "cell_type": "code",
   "execution_count": 11,
   "metadata": {},
   "outputs": [
    {
     "name": "stdout",
     "output_type": "stream",
     "text": [
      "1\n",
      "7\n",
      "1\n",
      "-1\n"
     ]
    }
   ],
   "source": [
    "# поиск подстроки в строке вернем индекс первого нахождения\n",
    "S1 = \"hello yellow\"\n",
    "print (S1.find(\"el\")) # найти индекс с которого начинается подстрока в строке, без указ\n",
    "#ания начала поиска (во всей строке)\n",
    "# использование начала поиска\n",
    "S2 = \"el\"\n",
    "print (S1.find(S2, 3))\n",
    "# использование конца поиска\n",
    "S2 = \"el\"\n",
    "print (S1.find(S2, 0, 3))\n",
    "# результат если не найдена подстрока будет -1\n",
    "S2 = \"tel\"\n",
    "print (S1.find(S2))"
   ]
  },
  {
   "cell_type": "code",
   "execution_count": 13,
   "metadata": {},
   "outputs": [
    {
     "name": "stdout",
     "output_type": "stream",
     "text": [
      "7\n",
      "7\n",
      "1\n",
      "-1\n"
     ]
    }
   ],
   "source": [
    "# поиск подстроки в строке вернем индекс последнего нахождения\n",
    "S1 = \"hello yellow\"\n",
    "print (S1.rfind(\"el\")) # найти индекс с которого начинается подстрока в строке, без ука\n",
    "#зания начала поиска (во всей строке)\n",
    "# использование начала поиска\n",
    "S2 = \"el\"\n",
    "print (S1.rfind(S2, 3))\n",
    "# использование конца поиска\n",
    "S2 = \"el\"\n",
    "print (S1.rfind(S2, 0, 3))\n",
    "# результат если не найдена подстрока будет -1\n",
    "S2 = \"tel\"\n",
    "print (S1.rfind(S2))"
   ]
  },
  {
   "cell_type": "code",
   "execution_count": 14,
   "metadata": {},
   "outputs": [
    {
     "name": "stdout",
     "output_type": "stream",
     "text": [
      "7\n",
      "7\n",
      "1\n"
     ]
    },
    {
     "ename": "ValueError",
     "evalue": "substring not found",
     "output_type": "error",
     "traceback": [
      "\u001b[1;31m---------------------------------------------------------------------------\u001b[0m",
      "\u001b[1;31mValueError\u001b[0m                                Traceback (most recent call last)",
      "\u001b[1;32m<ipython-input-14-a25b065fefea>\u001b[0m in \u001b[0;36m<module>\u001b[1;34m\u001b[0m\n\u001b[0;32m     11\u001b[0m \u001b[1;31m# результат если не найдена подстрока будет ValueError\u001b[0m\u001b[1;33m\u001b[0m\u001b[1;33m\u001b[0m\u001b[1;33m\u001b[0m\u001b[0m\n\u001b[0;32m     12\u001b[0m \u001b[0mS2\u001b[0m \u001b[1;33m=\u001b[0m \u001b[1;34m\"tel\"\u001b[0m\u001b[1;33m\u001b[0m\u001b[1;33m\u001b[0m\u001b[0m\n\u001b[1;32m---> 13\u001b[1;33m \u001b[0mprint\u001b[0m \u001b[1;33m(\u001b[0m\u001b[0mS1\u001b[0m\u001b[1;33m.\u001b[0m\u001b[0mrindex\u001b[0m\u001b[1;33m(\u001b[0m\u001b[0mS2\u001b[0m\u001b[1;33m)\u001b[0m\u001b[1;33m)\u001b[0m\u001b[1;33m\u001b[0m\u001b[1;33m\u001b[0m\u001b[0m\n\u001b[0m",
      "\u001b[1;31mValueError\u001b[0m: substring not found"
     ]
    }
   ],
   "source": [
    "# поиск подстроки в строке вернем индекс последнего нахождения\n",
    "S1 = \"hello yellow\"\n",
    "print (S1.rindex(\"el\")) # найти индекс с которого начинается подстрока в строке, без ук\n",
    "# азания начала поиска (во всей строке)\n",
    "# использование начала поиска\n",
    "S2 = \"el\"\n",
    "print (S1.rindex(S2, 3))\n",
    "# использование конца поиска\n",
    "S2 = \"el\"\n",
    "print (S1.rindex(S2, 0, 3))\n",
    "# результат если не найдена подстрока будет ValueError\n",
    "S2 = \"tel\"\n",
    "print (S1.rindex(S2))"
   ]
  },
  {
   "cell_type": "code",
   "execution_count": 15,
   "metadata": {},
   "outputs": [
    {
     "name": "stdout",
     "output_type": "stream",
     "text": [
      "1\n",
      "7\n",
      "1\n"
     ]
    },
    {
     "ename": "ValueError",
     "evalue": "substring not found",
     "output_type": "error",
     "traceback": [
      "\u001b[1;31m---------------------------------------------------------------------------\u001b[0m",
      "\u001b[1;31mValueError\u001b[0m                                Traceback (most recent call last)",
      "\u001b[1;32m<ipython-input-15-6e6c407946bb>\u001b[0m in \u001b[0;36m<module>\u001b[1;34m\u001b[0m\n\u001b[0;32m     11\u001b[0m \u001b[1;31m# результат если не найдена подстрока будет ValueError\u001b[0m\u001b[1;33m\u001b[0m\u001b[1;33m\u001b[0m\u001b[1;33m\u001b[0m\u001b[0m\n\u001b[0;32m     12\u001b[0m \u001b[0mS2\u001b[0m \u001b[1;33m=\u001b[0m \u001b[1;34m\"tel\"\u001b[0m\u001b[1;33m\u001b[0m\u001b[1;33m\u001b[0m\u001b[0m\n\u001b[1;32m---> 13\u001b[1;33m \u001b[0mprint\u001b[0m \u001b[1;33m(\u001b[0m\u001b[0mS1\u001b[0m\u001b[1;33m.\u001b[0m\u001b[0mindex\u001b[0m\u001b[1;33m(\u001b[0m\u001b[0mS2\u001b[0m\u001b[1;33m)\u001b[0m\u001b[1;33m)\u001b[0m\u001b[1;33m\u001b[0m\u001b[1;33m\u001b[0m\u001b[0m\n\u001b[0m",
      "\u001b[1;31mValueError\u001b[0m: substring not found"
     ]
    }
   ],
   "source": [
    "# поиск подстроки в строке вернем индекс первого нахождения\n",
    "S1 = \"hello yellow\"\n",
    "print (S1.index(\"el\")) # найти индекс с которого начинается подстрока в строке, без ука\n",
    "# зания начала поиска (во всей строке)\n",
    "# использование начала поиска\n",
    "S2 = \"el\"\n",
    "print (S1.index(S2, 3))\n",
    "# использование конца поиска\n",
    "S2 = \"el\"\n",
    "print (S1.index(S2, 0, 3))\n",
    "# результат если не найдена подстрока будет ValueError\n",
    "S2 = \"tel\"\n",
    "print (S1.index(S2))"
   ]
  },
  {
   "cell_type": "code",
   "execution_count": 16,
   "metadata": {},
   "outputs": [
    {
     "name": "stdout",
     "output_type": "stream",
     "text": [
      "htello ytellow\n",
      "heLLo yeLLow\n"
     ]
    }
   ],
   "source": [
    "# Замена шаблона в строке .replace(шаблон,замена)\n",
    "S1 = \"hello yellow\"\n",
    "print (S1.replace(\"el\",\"tel\"))\n",
    "# через переменные\n",
    "S2 = \"ll\"\n",
    "S3 = \"LL\"\n",
    "print (S1.replace(S2,S3))"
   ]
  },
  {
   "cell_type": "code",
   "execution_count": 17,
   "metadata": {},
   "outputs": [
    {
     "name": "stdout",
     "output_type": "stream",
     "text": [
      "['Коровы', 'овцы', 'лошади', 'собаки']\n",
      "['К', 'р', 'вы ', 'вцы л', 'шади с', 'баки']\n",
      "['К', 'р', 'вы овцы лошади собаки']\n",
      "['К', 'р', 'вы ', 'вцы л', 'шади собаки']\n"
     ]
    }
   ],
   "source": [
    "# разделенеие строки\n",
    "S1 = \"Коровы овцы лошади собаки\"\n",
    "print (S1.split(' ')) # разюиваем строку по пробелу\n",
    "print (S1.split('о')) # разюиваем строку по 'о'\n",
    "# укажем количество строк\n",
    "print (S1.split('о', 2)) # разбиваем два раза, т.е. пока не встретится два раза символ\n",
    "'о'\n",
    "print (S1.split('о', 4)) # разбиваем пока не встретится четыре раза символ 'о'"
   ]
  },
  {
   "cell_type": "code",
   "execution_count": 18,
   "metadata": {},
   "outputs": [
    {
     "name": "stdout",
     "output_type": "stream",
     "text": [
      "False\n",
      "True\n"
     ]
    }
   ],
   "source": [
    "# проверим состоит ли строка из цифр\n",
    "S1 = '34567o'\n",
    "print(S1.isdigit())\n",
    "S1 = '34567'\n",
    "print(S1.isdigit())"
   ]
  },
  {
   "cell_type": "code",
   "execution_count": 19,
   "metadata": {},
   "outputs": [
    {
     "name": "stdout",
     "output_type": "stream",
     "text": [
      "False\n",
      "False\n",
      "True\n"
     ]
    }
   ],
   "source": [
    "# проверим состоит ли строка из букв\n",
    "S1 = '1 корова'\n",
    "print(S1.isalpha())\n",
    "S1 = 'одна корова'\n",
    "print(S1.isalpha())\n",
    "S1 = 'однакорова'\n",
    "print(S1.isalpha())"
   ]
  },
  {
   "cell_type": "code",
   "execution_count": 20,
   "metadata": {},
   "outputs": [
    {
     "name": "stdout",
     "output_type": "stream",
     "text": [
      "False\n",
      "False\n",
      "True\n"
     ]
    }
   ],
   "source": [
    "# проверим состоит ли строка из букв и цифр\n",
    "S1 = '1 корова'\n",
    "print(S1.isalnum())\n",
    "S1 = 'одна корова'\n",
    "print(S1.isalnum())\n",
    "S1 = '1корова'\n",
    "print(S1.isalnum())"
   ]
  },
  {
   "cell_type": "code",
   "execution_count": 22,
   "metadata": {},
   "outputs": [
    {
     "name": "stdout",
     "output_type": "stream",
     "text": [
      "Начальная строка:  1 корова ! всего символов -  11\n",
      "Удалил пробелы в начале и конце строки результат: 1 корова ! осталось символов -  10\n",
      "Начальная строка:  !\"1 корова \" ! всего символов -  15\n",
      "Удалил пробелы в начале строки результат: !\"1 корова \" ! осталось символов -  14\n",
      "Начальная строка:  !\"1 корова\"  всего символов -  13\n",
      "Удалил пробелы в конце строки результат:  !\"1 корова\" осталось символов -  12\n",
      "Начальная строка:  ! !\"1 корова\" ! *  всего символов -  19\n",
      "Удалил все пробелы результат: !!\"1корова\"!* осталось символов -  13\n"
     ]
    }
   ],
   "source": [
    "# удаление пробелов в строке\n",
    "S1 = ' 1 корова !'\n",
    "k1 = len(S1)\n",
    "print('Начальная строка:',S1, 'всего символов - ', k1)\n",
    "S2= S1.strip() # удадим пробелы в начале и конце строки\n",
    "k2 = len(S2)\n",
    "print ('Удалил пробелы в начале и конце строки результат:',S2,'осталось символов - ', k2)\n",
    "S1 = ' !\"1 корова \" !'\n",
    "k1 = len(S1)\n",
    "print('Начальная строка:',S1, 'всего символов - ',k1)\n",
    "S2 = S1.lstrip() # удадим пробелы в начале строки\n",
    "k2 = len(S2)\n",
    "print ('Удалил пробелы в начале строки результат:',S2,'осталось символов - ', k2)\n",
    "S1 = ' !\"1 корова\" '\n",
    "k1 = len(S1)\n",
    "print('Начальная строка:', S1, 'всего символов - ', k1)\n",
    "S2 = S1.rstrip() # удадим пробелы в конце строки\n",
    "k2 = len(S2)\n",
    "print ('Удалил пробелы в конце строки результат:', S2, 'осталось символов - ', k2)\n",
    "S1 = ' ! !\"1 корова\" ! * '\n",
    "k1 = len(S1)\n",
    "print('Начальная строка:', S1, 'всего символов - ', k1)\n",
    "S2 = S1.replace(' ','')\n",
    "k2 = len(S2)\n",
    "print ('Удалил все пробелы результат:', S2, 'осталось символов - ', k2)"
   ]
  },
  {
   "cell_type": "code",
   "execution_count": 23,
   "metadata": {},
   "outputs": [
    {
     "name": "stdout",
     "output_type": "stream",
     "text": [
      "Привет мир\n",
      "False\n",
      " \n",
      "True\n",
      "\n",
      "\n",
      "True\n",
      "привет мир\n",
      "True\n",
      "Привет мир\n",
      "False\n",
      "Привет мир\n",
      "False\n",
      "ПРИВЕТ МИР\n",
      "True\n",
      "привет мир\n",
      "False\n",
      "Привет мир\n",
      "False\n",
      "Привет Мир\n",
      "True\n"
     ]
    }
   ],
   "source": [
    "# проверим состоит есть ли в строке неотображаемых символов\n",
    "S1 = 'Привет мир'\n",
    "print (S1)\n",
    "print(S1.isspace())\n",
    "S1 = ' '\n",
    "print (S1)\n",
    "print(S1.isspace())\n",
    "S1 = '\\n'\n",
    "print (S1)\n",
    "print(S1.isspace())\n",
    "# проверим состоит ли строка из символов в нижнем регистре\n",
    "S1 = 'привет мир'\n",
    "print (S1)\n",
    "print(S1.islower())\n",
    "S1 = 'Привет мир'\n",
    "print (S1)\n",
    "print(S1.islower())\n",
    "# проверим состоит ли строка из символов в верхнем регистре\n",
    "S1 = 'Привет мир'\n",
    "print (S1)\n",
    "print(S1.isupper())\n",
    "S1 = 'ПРИВЕТ МИР'\n",
    "print (S1)\n",
    "print(S1.isupper())\n",
    "# проверим начинается ли строка с символа в верхнем регистре\n",
    "S1 = 'привет мир' # все слова в строке с нижнего регистра результат False\n",
    "print (S1)\n",
    "print(S1.istitle())\n",
    "S1 = 'Привет мир' # только первое слово в строке с верхнего регистра результат False\n",
    "print (S1)\n",
    "print(S1.istitle())\n",
    "S1 = 'Привет Мир'\n",
    "print (S1)\n",
    "print(S1.istitle()) # оба слова с верхнего регистра результат True"
   ]
  },
  {
   "cell_type": "code",
   "execution_count": 24,
   "metadata": {},
   "outputs": [
    {
     "name": "stdout",
     "output_type": "stream",
     "text": [
      "ПРИВЕТ МИР\n",
      "привет мир\n"
     ]
    }
   ],
   "source": [
    "# преобразовать строку к верхнему регистру\n",
    "S1 = \"привет мир\"\n",
    "print(S1.upper())\n",
    "# преобразовать строку к нижнему регистру\n",
    "S1 = \"Привет мир\"\n",
    "print(S1.lower())"
   ]
  },
  {
   "cell_type": "code",
   "execution_count": 25,
   "metadata": {},
   "outputs": [
    {
     "name": "stdout",
     "output_type": "stream",
     "text": [
      "True\n",
      "False\n",
      "True\n",
      "False\n"
     ]
    }
   ],
   "source": [
    "# начинается ли строка с заданного шаблона\n",
    "S1 = \"привет мир\"\n",
    "print(S1.startswith(\"пр\"))\n",
    "S1 = \"привет мир\"\n",
    "print(S1.startswith(\"Пр\"))\n",
    "# заканчивается ли строка с заданным шаблоном\n",
    "S1 = \"Привет мир\"\n",
    "print(S1.endswith(\"ир\"))\n",
    "S1 = \"Привет мир\"\n",
    "print(S1.endswith(\"иР\"))"
   ]
  },
  {
   "cell_type": "code",
   "execution_count": 26,
   "metadata": {},
   "outputs": [
    {
     "name": "stdout",
     "output_type": "stream",
     "text": [
      "Быстрее-Выше-Сильнее\n"
     ]
    }
   ],
   "source": [
    "# сборка строки из списка с разделителем\n",
    "S1 = '-'\n",
    "posl = ('Быстрее','Выше','Сильнее')\n",
    "print (S1.join(posl))"
   ]
  },
  {
   "cell_type": "code",
   "execution_count": 27,
   "metadata": {},
   "outputs": [
    {
     "name": "stdout",
     "output_type": "stream",
     "text": [
      "Начальная строка прИвЕт МиР\n",
      "Измененная строка ПРиВеТ мИр\n",
      "Начальная строка иванов иван иванович\n",
      "Измененная строка Иванов Иван Иванович\n"
     ]
    }
   ],
   "source": [
    "# переводим символы верхнего регистра в нижний и нижнего в верхний\n",
    "S1 = 'прИвЕт МиР'\n",
    "S2 = S1.swapcase()\n",
    "print ('Начальная строка', S1)\n",
    "print ('Измененная строка', S2)\n",
    "# первая буква каждого слова с символа в верхнем регистре\n",
    "S1 = 'иванов иван иванович'\n",
    "S2 = S1.title()\n",
    "print ('Начальная строка', S1)\n",
    "print ('Измененная строка', S2)"
   ]
  },
  {
   "cell_type": "code",
   "execution_count": 29,
   "metadata": {},
   "outputs": [
    {
     "name": "stdout",
     "output_type": "stream",
     "text": [
      "Строка для среза:  0123456789\n",
      "<-------------------------->\n",
      "Срез с 1 элемента по 5 с шагом 2 03\n",
      "Срез с первого по последний элемент с шагом 2 02468\n",
      "Срез без указания шага во всей строке 0123456789\n",
      "Срез без указания шага во всей строке \n",
      "Срез со второго по элемент с шагом 2 1\n",
      "13579\n"
     ]
    }
   ],
   "source": [
    "# работа со срезами строк\n",
    "S1 = '0123456789'\n",
    "print('Строка для среза: ',S1)\n",
    "print ('<-------------------------->')\n",
    "# выполнеим срез начиная с первого элемента по последний с шагом 2, т.е. каждый второй элемент\n",
    "# синтаксис \"строка[начало среза:конец среза:шаг]\". 0 - начало строки, 17 последний индекс\n",
    "print ('Срез с 1 элемента по 5 с шагом 2', S1[0:5:3])\n",
    "print ('Срез с первого по последний элемент с шагом 2', S1[::2])\n",
    "# выплним срез начиная со второго элемента с шагом 2, не забываем, что индексация в строке начинается с 0,\n",
    "# т.е. второй элемент имеет индекс 1\n",
    "print ('Срез без указания шага во всей строке', S1[::])\n",
    "print ('Срез без указания шага во всей строке', S1[-10:0:])\n",
    "print ('Срез со второго по элемент с шагом 2',S1[1:3:2])\n",
    "print (S1[1::2])"
   ]
  },
  {
   "cell_type": "code",
   "execution_count": 30,
   "metadata": {},
   "outputs": [
    {
     "name": "stdout",
     "output_type": "stream",
     "text": [
      "97\n",
      "86420\n",
      "9630\n"
     ]
    }
   ],
   "source": [
    "S1 = '0123456789'\n",
    "print(S1[-1:6:-2])\n",
    "print(S1[-2::-2])\n",
    "print(S1[::-3])"
   ]
  },
  {
   "cell_type": "code",
   "execution_count": 31,
   "metadata": {},
   "outputs": [
    {
     "name": "stdout",
     "output_type": "stream",
     "text": [
      "наступит\n",
      "наступит\n",
      "типутсан\n",
      "типутсан\n",
      "Птнтиныг,нароьрет!\n",
      "!!тснр тоа а о,о ыо иусньсП\n"
     ]
    }
   ],
   "source": [
    "S1 = 'Пусть наступит новый год, он нам радость принесет!!!!'\n",
    "print(S1[6:14:1])\n",
    "print (S1[6:-39:1])\n",
    "print (S1[-40:-48:-1])\n",
    "print(S1[-40:5:-1])\n",
    "print (S1[::3])\n",
    "print(S1[::-2])"
   ]
  },
  {
   "cell_type": "code",
   "execution_count": null,
   "metadata": {},
   "outputs": [],
   "source": []
  }
 ],
 "metadata": {
  "kernelspec": {
   "display_name": "Python 3",
   "language": "python",
   "name": "python3"
  },
  "language_info": {
   "codemirror_mode": {
    "name": "ipython",
    "version": 3
   },
   "file_extension": ".py",
   "mimetype": "text/x-python",
   "name": "python",
   "nbconvert_exporter": "python",
   "pygments_lexer": "ipython3",
   "version": "3.7.1"
  }
 },
 "nbformat": 4,
 "nbformat_minor": 2
}
